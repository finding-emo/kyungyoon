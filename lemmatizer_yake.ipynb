{
 "cells": [
  {
   "cell_type": "code",
   "execution_count": 1,
   "metadata": {},
   "outputs": [
    {
     "name": "stdout",
     "output_type": "stream",
     "text": [
      "Collecting yake\n",
      "  Downloading yake-0.4.8-py2.py3-none-any.whl (60 kB)\n",
      "\u001b[2K     \u001b[90m━━━━━━━━━━━━━━━━━━━━━━━━━━━━━━━━━━━━━━━━\u001b[0m \u001b[32m60.2/60.2 kB\u001b[0m \u001b[31m3.3 MB/s\u001b[0m eta \u001b[36m0:00:00\u001b[0m\n",
      "\u001b[?25hCollecting tabulate (from yake)\n",
      "  Downloading tabulate-0.9.0-py3-none-any.whl (35 kB)\n",
      "Collecting click>=6.0 (from yake)\n",
      "  Downloading click-8.1.6-py3-none-any.whl (97 kB)\n",
      "\u001b[2K     \u001b[90m━━━━━━━━━━━━━━━━━━━━━━━━━━━━━━━━━━━━━━━━\u001b[0m \u001b[32m97.9/97.9 kB\u001b[0m \u001b[31m7.3 MB/s\u001b[0m eta \u001b[36m0:00:00\u001b[0m\n",
      "\u001b[?25hRequirement already satisfied: numpy in /Users/jungkyungyoon/anaconda3/envs/ybenv/lib/python3.9/site-packages (from yake) (1.25.0)\n",
      "Collecting segtok (from yake)\n",
      "  Downloading segtok-1.5.11-py3-none-any.whl (24 kB)\n",
      "Requirement already satisfied: networkx in /Users/jungkyungyoon/anaconda3/envs/ybenv/lib/python3.9/site-packages (from yake) (3.1)\n",
      "Collecting jellyfish (from yake)\n",
      "  Downloading jellyfish-1.0.0-cp39-cp39-macosx_11_0_arm64.whl (323 kB)\n",
      "\u001b[2K     \u001b[90m━━━━━━━━━━━━━━━━━━━━━━━━━━━━━━━━━━━━━━\u001b[0m \u001b[32m323.6/323.6 kB\u001b[0m \u001b[31m23.0 MB/s\u001b[0m eta \u001b[36m0:00:00\u001b[0m\n",
      "\u001b[?25hRequirement already satisfied: regex in /Users/jungkyungyoon/anaconda3/envs/ybenv/lib/python3.9/site-packages (from segtok->yake) (2023.8.8)\n",
      "Installing collected packages: tabulate, segtok, jellyfish, click, yake\n",
      "Successfully installed click-8.1.6 jellyfish-1.0.0 segtok-1.5.11 tabulate-0.9.0 yake-0.4.8\n"
     ]
    }
   ],
   "source": [
    "!pip install yake"
   ]
  },
  {
   "cell_type": "code",
   "execution_count": 2,
   "metadata": {},
   "outputs": [
    {
     "name": "stdout",
     "output_type": "stream",
     "text": [
      "Requirement already satisfied: konlpy in /Users/jungkyungyoon/anaconda3/envs/ybenv/lib/python3.9/site-packages (0.6.0)\n",
      "Requirement already satisfied: JPype1>=0.7.0 in /Users/jungkyungyoon/anaconda3/envs/ybenv/lib/python3.9/site-packages (from konlpy) (1.4.1)\n",
      "Requirement already satisfied: lxml>=4.1.0 in /Users/jungkyungyoon/anaconda3/envs/ybenv/lib/python3.9/site-packages (from konlpy) (4.9.2)\n",
      "Requirement already satisfied: numpy>=1.6 in /Users/jungkyungyoon/anaconda3/envs/ybenv/lib/python3.9/site-packages (from konlpy) (1.25.0)\n",
      "Requirement already satisfied: packaging in /Users/jungkyungyoon/anaconda3/envs/ybenv/lib/python3.9/site-packages (from JPype1>=0.7.0->konlpy) (23.0)\n"
     ]
    },
    {
     "ename": "JVMNotFoundException",
     "evalue": "No JVM shared library file (libjli.dylib) found. Try setting up the JAVA_HOME environment variable properly.",
     "output_type": "error",
     "traceback": [
      "\u001b[0;31m---------------------------------------------------------------------------\u001b[0m",
      "\u001b[0;31mJVMNotFoundException\u001b[0m                      Traceback (most recent call last)",
      "Cell \u001b[0;32mIn[2], line 4\u001b[0m\n\u001b[1;32m      1\u001b[0m get_ipython()\u001b[39m.\u001b[39msystem(\u001b[39m'\u001b[39m\u001b[39mpip install konlpy\u001b[39m\u001b[39m'\u001b[39m)\n\u001b[1;32m      2\u001b[0m \u001b[39mfrom\u001b[39;00m \u001b[39mkonlpy\u001b[39;00m\u001b[39m.\u001b[39;00m\u001b[39mtag\u001b[39;00m \u001b[39mimport\u001b[39;00m Okt\n\u001b[0;32m----> 4\u001b[0m okt \u001b[39m=\u001b[39m Okt()\n",
      "File \u001b[0;32m~/anaconda3/envs/ybenv/lib/python3.9/site-packages/konlpy/tag/_okt.py:51\u001b[0m, in \u001b[0;36mOkt.__init__\u001b[0;34m(self, jvmpath, max_heap_size)\u001b[0m\n\u001b[1;32m     49\u001b[0m \u001b[39mdef\u001b[39;00m \u001b[39m__init__\u001b[39m(\u001b[39mself\u001b[39m, jvmpath\u001b[39m=\u001b[39m\u001b[39mNone\u001b[39;00m, max_heap_size\u001b[39m=\u001b[39m\u001b[39m1024\u001b[39m):\n\u001b[1;32m     50\u001b[0m     \u001b[39mif\u001b[39;00m \u001b[39mnot\u001b[39;00m jpype\u001b[39m.\u001b[39misJVMStarted():\n\u001b[0;32m---> 51\u001b[0m         jvm\u001b[39m.\u001b[39;49minit_jvm(jvmpath, max_heap_size)\n\u001b[1;32m     53\u001b[0m     oktJavaPackage \u001b[39m=\u001b[39m jpype\u001b[39m.\u001b[39mJPackage(\u001b[39m'\u001b[39m\u001b[39mkr.lucypark.okt\u001b[39m\u001b[39m'\u001b[39m)\n\u001b[1;32m     54\u001b[0m     OktInterfaceJavaClass \u001b[39m=\u001b[39m oktJavaPackage\u001b[39m.\u001b[39mOktInterface\n",
      "File \u001b[0;32m~/anaconda3/envs/ybenv/lib/python3.9/site-packages/konlpy/jvm.py:55\u001b[0m, in \u001b[0;36minit_jvm\u001b[0;34m(jvmpath, max_heap_size)\u001b[0m\n\u001b[1;32m     52\u001b[0m args \u001b[39m=\u001b[39m [javadir, os\u001b[39m.\u001b[39msep]\n\u001b[1;32m     53\u001b[0m classpath \u001b[39m=\u001b[39m [f\u001b[39m.\u001b[39mformat(\u001b[39m*\u001b[39margs) \u001b[39mfor\u001b[39;00m f \u001b[39min\u001b[39;00m folder_suffix]\n\u001b[0;32m---> 55\u001b[0m jvmpath \u001b[39m=\u001b[39m jvmpath \u001b[39mor\u001b[39;00m jpype\u001b[39m.\u001b[39;49mgetDefaultJVMPath()\n\u001b[1;32m     57\u001b[0m \u001b[39m# NOTE: Temporary patch for Issue #76. Erase when possible.\u001b[39;00m\n\u001b[1;32m     58\u001b[0m \u001b[39mif\u001b[39;00m sys\u001b[39m.\u001b[39mplatform \u001b[39m==\u001b[39m \u001b[39m'\u001b[39m\u001b[39mdarwin\u001b[39m\u001b[39m'\u001b[39m\\\n\u001b[1;32m     59\u001b[0m         \u001b[39mand\u001b[39;00m jvmpath\u001b[39m.\u001b[39mfind(\u001b[39m'\u001b[39m\u001b[39m1.8.0\u001b[39m\u001b[39m'\u001b[39m) \u001b[39m>\u001b[39m \u001b[39m0\u001b[39m\\\n\u001b[1;32m     60\u001b[0m         \u001b[39mand\u001b[39;00m jvmpath\u001b[39m.\u001b[39mendswith(\u001b[39m'\u001b[39m\u001b[39mlibjvm.dylib\u001b[39m\u001b[39m'\u001b[39m):\n",
      "File \u001b[0;32m~/anaconda3/envs/ybenv/lib/python3.9/site-packages/jpype/_jvmfinder.py:74\u001b[0m, in \u001b[0;36mgetDefaultJVMPath\u001b[0;34m()\u001b[0m\n\u001b[1;32m     72\u001b[0m \u001b[39melse\u001b[39;00m:\n\u001b[1;32m     73\u001b[0m     finder \u001b[39m=\u001b[39m LinuxJVMFinder()\n\u001b[0;32m---> 74\u001b[0m \u001b[39mreturn\u001b[39;00m finder\u001b[39m.\u001b[39;49mget_jvm_path()\n",
      "File \u001b[0;32m~/anaconda3/envs/ybenv/lib/python3.9/site-packages/jpype/_jvmfinder.py:212\u001b[0m, in \u001b[0;36mJVMFinder.get_jvm_path\u001b[0;34m(self)\u001b[0m\n\u001b[1;32m    210\u001b[0m \u001b[39mif\u001b[39;00m jvm_notsupport_ext \u001b[39mis\u001b[39;00m \u001b[39mnot\u001b[39;00m \u001b[39mNone\u001b[39;00m:\n\u001b[1;32m    211\u001b[0m     \u001b[39mraise\u001b[39;00m jvm_notsupport_ext\n\u001b[0;32m--> 212\u001b[0m \u001b[39mraise\u001b[39;00m JVMNotFoundException(\u001b[39m\"\u001b[39m\u001b[39mNo JVM shared library file (\u001b[39m\u001b[39m{0}\u001b[39;00m\u001b[39m) \u001b[39m\u001b[39m\"\u001b[39m\n\u001b[1;32m    213\u001b[0m                            \u001b[39m\"\u001b[39m\u001b[39mfound. Try setting up the JAVA_HOME \u001b[39m\u001b[39m\"\u001b[39m\n\u001b[1;32m    214\u001b[0m                            \u001b[39m\"\u001b[39m\u001b[39menvironment variable properly.\u001b[39m\u001b[39m\"\u001b[39m\n\u001b[1;32m    215\u001b[0m                            \u001b[39m.\u001b[39mformat(\u001b[39mself\u001b[39m\u001b[39m.\u001b[39m_libfile))\n",
      "\u001b[0;31mJVMNotFoundException\u001b[0m: No JVM shared library file (libjli.dylib) found. Try setting up the JAVA_HOME environment variable properly."
     ]
    }
   ],
   "source": [
    "!pip install konlpy\n",
    "from konlpy.tag import Okt\n",
    "\n",
    "okt = Okt()"
   ]
  },
  {
   "cell_type": "code",
   "execution_count": null,
   "metadata": {},
   "outputs": [],
   "source": [
    "language = \"ko\"\n",
    "max_ngram_size = 1\n",
    "deduplication_threshold = 0.9\n",
    "deduplication_algo = 'lev'\n",
    "windowSize = 1\n",
    "numOfKeywords = 3\n",
    "\n",
    "all_elements = [\n",
    "    \"미하하하하하하하하하하하하하하하하하하하하하하하하하하하하핳ㅎㅎㅎㅎㅎㅎ\",\n",
    "    \"나꿍꼬또댜기꿍꼬또\",\n",
    "    \"그냥 자라..누구냐너\",\n",
    "    \"어디 갔다 왐수꽈?\",\n",
    "    \"요새 어떵 살미꽈? 좋수과?\",\n",
    "    \"당연이 줄 수 있지, 문자 한번 다시 다오~^^\",\n",
    "    \"우리가 현준이를 종잡을 수 있겠나\",\n",
    "    \"고대 연구실에서 나올리가…\",\n",
    "    \"다들 곧 퇴근하시겠군요\",\n",
    "    \"재택과 백수 앞에 무력하네요\",\n",
    "    \"짐 놓고 와도 도착하는ㅅ ㅣ간 아님?\",\n",
    "    \"9시에 만난다고하먀ㅏㄴ 난장판 되어있을듯 하다\",\n",
    "    \"오랜만이야~ 보고싶었어~ 나도 요새 취준해… 너도 잘 살지?\",\n",
    "    \"난 교내 학회에서 프로젝트 하고 있는데 팀원을 때문에 너무 힘들다!!!!\",\n",
    "    \"나도 요새 수업 듣는데 좀 힘들다ㅠㅠㅠㅠ 무려 21학점 들어야 해… 살려줘ㅠㅠ 죽고싶어ㅠㅠㅠㅠㅋㅋㅋ\",\n",
    "    \"나 요새 마라탕 자주 먹는데 개마싰음. 나중에 시간 되면 같이 먹으러 ㄱ?\",\n",
    "    \"엄마 나 용돈 떨어졌어 용돈 제바류ㅠㅠㅠㅠㅠ\",\n",
    "    \"여기에 각자 5개씩 제안해주시면 감사드리겠습니다 ㅎㅎ\",\n",
    "    \"내일까지 10분 내외로 간단하게 해당 주제에 대한 설명(주제 소개, 목표, 데이터셋, 플로우 등)을 준비해주시면 됩니다\",\n",
    "    \"30분에맞춰서 도착할듯?\",\n",
    "    \"그럼 일단 방먹에서봐?\",\n",
    "    \"이것대로 인스턴스 설정하고 활성화 해야 해\",\n",
    "    \"나 진짜 너무 배고파\",\n",
    "    \"헐~ ㅁㅊ 그럼 어케 되는겨?\",\n",
    "    \"오키 그럼 내일 5시에 빨잠에서 보는걸루?\",\n",
    "    \"저는 아아로 부탁드립니다~\",\n",
    "    \"잘자구 내일 보쟈잉!\",\n",
    "    \"엥 ㅁㅊ 어떻게 그럴 수 있음???\",\n",
    "    \"아 가보자고\",\n",
    "    \"어케 해야 하는지 감이 오는 것 같음\",\n",
    "    \"ㅇㅎ…..오비맥주도 저기 겅ㅅ구나……? 흥ㅁ로구먼\"\n",
    "]"
   ]
  },
  {
   "cell_type": "code",
   "execution_count": null,
   "metadata": {},
   "outputs": [],
   "source": [
    "import yake\n",
    "from time import time\n",
    "from konlpy.tag import Okt\n",
    "from soylemma import Lemmatizer\n",
    "\n",
    "okt = Okt()\n",
    "\n",
    "start_time = time()\n",
    "\n",
    "for text in all_elements:\n",
    "    custom_kw_extractor = yake.KeywordExtractor(lan=language,\n",
    "                                                n=max_ngram_size,\n",
    "                                                dedupLim=deduplication_threshold,\n",
    "                                                dedupFunc=deduplication_algo,\n",
    "                                                windowsSize=windowSize,\n",
    "                                                top=numOfKeywords,\n",
    "                                                features=None)\n",
    "    keywords = custom_kw_extractor.extract_keywords(text)\n",
    "\n",
    "    print(f\"Keywords for text: '{text}'\")\n",
    "    for kw, score in keywords:  # lower the score, more relevant the keyword\n",
    "        tag = None\n",
    "        for word, tag_ in okt.pos(kw):\n",
    "            if kw == word:\n",
    "                tag = tag_\n",
    "                break\n",
    "                \n",
    "        if tag == 'Verb':  # Check if the tag is 'Verb'\n",
    "            lemmatizer = Lemmatizer(dictionary_name='demo')  # Initialize the Lemmatizer\n",
    "            lemma = lemmatizer.lemmatize(kw)  # Use lemmatize method\n",
    "            if lemma:\n",
    "                lemma, lemma_tag = lemma[0]  # Extract lemma and its tag\n",
    "                print(f\"Lemmatized Verb: {lemma} (Original: {kw}, Score: {score:.4f})\")\n",
    "            else:\n",
    "                print(f\"No lemma found for Verb: {kw} (Score: {score:.4f})\")\n",
    "        else:\n",
    "            print(f\"Other POS: {kw} (Score: {score:.4f})\")\n",
    "    \n",
    "    print(\"\\n\")\n",
    "\n",
    "end_time = time()\n",
    "running_time = end_time - start_time\n",
    "\n",
    "print(\"model running time: %s \" % f\"{running_time:12.9f}\", end=\"\")\n"
   ]
  }
 ],
 "metadata": {
  "kernelspec": {
   "display_name": "ybenv",
   "language": "python",
   "name": "ybenv"
  },
  "language_info": {
   "codemirror_mode": {
    "name": "ipython",
    "version": 3
   },
   "file_extension": ".py",
   "mimetype": "text/x-python",
   "name": "python",
   "nbconvert_exporter": "python",
   "pygments_lexer": "ipython3",
   "version": "3.9.17"
  },
  "orig_nbformat": 4
 },
 "nbformat": 4,
 "nbformat_minor": 2
}
